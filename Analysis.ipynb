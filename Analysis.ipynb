{
 "cells": [
  {
   "cell_type": "code",
   "execution_count": null,
   "id": "15d8c77a",
   "metadata": {},
   "outputs": [],
   "source": [
    "%matplotlib inline\n",
    "\n",
    "import sqlite3\n",
    "import json\n",
    "import matplotlib.pyplot as plt\n",
    "import seaborn as sns\n",
    "import pandas as pd\n",
    "import numpy as np\n",
    "\n",
    "from Utility import Database as db\n",
    "from Utility import Tabulate"
   ]
  },
  {
   "cell_type": "code",
   "execution_count": null,
   "id": "1b69ae04",
   "metadata": {},
   "outputs": [],
   "source": [
    "# def delete_results(problem_name, population_size):\n",
    "#     db.con.execute(f'''\n",
    "#         DELETE FROM \n",
    "#             result \n",
    "#         WHERE ROWID IN  (\n",
    "#             SELECT \n",
    "#                 result.ROWID \n",
    "#             FROM \n",
    "#                 result \n",
    "#             INNER JOIN \n",
    "#                 config \n",
    "#             ON \n",
    "#                 (config.config_id = result.config_id) \n",
    "#             WHERE \n",
    "#                 config.name=\"{problem_name}\" and\n",
    "#                 config.population_size={population_size}\n",
    "#         )\n",
    "#     ''').fetchall()\n",
    "    \n",
    "#     db.con.execute(f'''\n",
    "#         DELETE FROM \n",
    "#             config\n",
    "#         where\n",
    "#             config.name=\"{problem_name}\" and\n",
    "#             config.population_size={population_size}\n",
    "#     ''')\n",
    "    \n",
    "# # delete_results('Rosenbrock', 320)\n",
    "# # db.save_and_quit()"
   ]
  },
  {
   "cell_type": "code",
   "execution_count": null,
   "id": "19051e4c",
   "metadata": {},
   "outputs": [],
   "source": [
    "def plot_epochs_migration_rate_vs_fitness(problem_name, population_size):\n",
    "    # same y axis\n",
    "    # get best results for an algorithm table\n",
    "    algorithms = [\n",
    "        'Island GA Ring Lattice',\n",
    "        'Island GA Cell',\n",
    "        'Island GA Hierarchy',\n",
    "        'Island GA Caveman',\n",
    "        'Island GA Rewired Caveman',\n",
    "        'Island GA Watts Strogatz',\n",
    "        'Island GA Full'\n",
    "    ]\n",
    "    \n",
    "    fig = plt.figure(figsize=(15,18))\n",
    "    subplots = fig.subplots((len(algorithms)//2)+1, 2, subplot_kw=dict(projection='3d'),)\n",
    "    subplots = [item for sublist in subplots for item in sublist]\n",
    "    \n",
    "    min_fitness = 10000000000\n",
    "    max_fitness = -10000000000\n",
    "    \n",
    "    for i, alg_name in enumerate(algorithms):\n",
    "        results = db.con.execute(f'''\n",
    "            select \n",
    "                config.epochs_till_migration,\n",
    "                config.migration_rate,\n",
    "                fitness\n",
    "            from \n",
    "                result\n",
    "            inner join \n",
    "                config\n",
    "            on \n",
    "                result.config_id == config.config_id\n",
    "            where \n",
    "                name=\"{problem_name}\" and \n",
    "                population_size={population_size} and \n",
    "                algorithm=\"{alg_name}\"\n",
    "        ''').fetchall()\n",
    "\n",
    "        df = pd.DataFrame(\n",
    "            results, \n",
    "            columns=['Epoch', 'Migration Rate', 'Fitness'])\n",
    "        df = df.groupby(['Epoch', 'Migration Rate']).mean().reset_index()\n",
    "        \n",
    "        ax = subplots[i]\n",
    "        ax.set_xlabel('Epoch')\n",
    "        ax.set_ylabel('Migration Rate')\n",
    "        ax.set_zlabel('Fitness')\n",
    "        ax.set_title(alg_name)\n",
    "\n",
    "        ax.plot_trisurf(df['Epoch'], df['Migration Rate'], df['Fitness'])\n",
    "        \n",
    "        min_fitness = min(min_fitness, df['Fitness'].min())\n",
    "        max_fitness = max(max_fitness, df['Fitness'].max())\n",
    "        \n",
    "        \n",
    "    for ax in subplots:\n",
    "        ax.set_zlim(min_fitness, max_fitness)\n",
    "    plt.show()"
   ]
  },
  {
   "cell_type": "code",
   "execution_count": null,
   "id": "6f04c54d",
   "metadata": {},
   "outputs": [],
   "source": [
    "def get_best_results(problem_name, population_size):\n",
    "    algorithms = [\n",
    "        'Island GA Ring Lattice',\n",
    "        'Island GA Cell',\n",
    "        'Island GA Hierarchy',\n",
    "        'Island GA Caveman',\n",
    "        'Island GA Rewired Caveman',\n",
    "        'Island GA Watts Strogatz',\n",
    "        'Island GA Full'\n",
    "    ]\n",
    "    \n",
    "    for i, alg_name in enumerate(algorithms):\n",
    "        results = db.con.execute(f'''\n",
    "            select \n",
    "                config.algorithm, \n",
    "                fitness,\n",
    "                config.migration_rate,\n",
    "                config.epochs_till_migration\n",
    "            from \n",
    "                result\n",
    "            inner join \n",
    "                config\n",
    "            on \n",
    "                result.config_id == config.config_id\n",
    "            where \n",
    "                name=\"{problem_name}\" and \n",
    "                population_size={population_size}\n",
    "            group by \n",
    "                config.algorithm\n",
    "            having\n",
    "                result.fitness == min(result.fitness)\n",
    "            order by \n",
    "                result.fitness\n",
    "        ''').fetchall()\n",
    "        \n",
    "    Tabulate.print_table([\n",
    "            'Algorith', \n",
    "            'Fitness', \n",
    "            'Migration Rate', \n",
    "            'Epochs Per Migraiton'\n",
    "        ],\n",
    "        results)\n"
   ]
  },
  {
   "cell_type": "code",
   "execution_count": null,
   "id": "4aa5c8fe",
   "metadata": {},
   "outputs": [],
   "source": [
    "def plot_calculations_fitness(problem_name, population_size):    \n",
    "    results = db.con.execute(f'''\n",
    "        select \n",
    "            config.algorithm, \n",
    "            config.fitness_calculations,\n",
    "            config.epochs_till_migration,\n",
    "            config.migration_rate,\n",
    "            fitness\n",
    "        from \n",
    "            result\n",
    "        inner join \n",
    "            config\n",
    "        on \n",
    "            result.config_id == config.config_id\n",
    "        where \n",
    "            name=\"{problem_name}\" and \n",
    "            population_size={population_size}\n",
    "    ''').fetchall()\n",
    "\n",
    "    df = pd.DataFrame(\n",
    "        results, \n",
    "        columns=['Algorithm', 'Fitness Calculations', 'Epoch', 'Migration Rate', 'Fitness'])\n",
    "    \n",
    "#     print(df.to_string(index=False))\n",
    "    sns.set(rc = {'figure.figsize':(15,8)})\n",
    "    sns.set_theme(style=\"darkgrid\")\n",
    "    sns.lineplot(data=df, x='Fitness Calculations', y='Fitness', hue='Algorithm')\n",
    "    plt.legend(bbox_to_anchor=(1.05, 1), loc=2, borderaxespad=0.)\n",
    "    plt.show()"
   ]
  },
  {
   "cell_type": "code",
   "execution_count": null,
   "id": "e3247205",
   "metadata": {},
   "outputs": [],
   "source": [
    "def algorithm_best(problem_name, population_size, limit):\n",
    "    algorithms = [\n",
    "        'Island GA Ring Lattice',\n",
    "        'Island GA Cell',\n",
    "        'Island GA Hierarchy',\n",
    "        'Island GA Caveman',\n",
    "        'Island GA Rewired Caveman',\n",
    "        'Island GA Watts Strogatz',\n",
    "        'Island GA Full'\n",
    "    ]\n",
    "    \n",
    "    for i, alg_name in enumerate(algorithms):\n",
    "        results = db.con.execute(f'''\n",
    "            select \n",
    "                fitness,\n",
    "                config.migration_rate,\n",
    "                config.epochs_till_migration\n",
    "            from \n",
    "                result\n",
    "            inner join \n",
    "                config\n",
    "            on \n",
    "                result.config_id == config.config_id\n",
    "            where \n",
    "                name=\"{problem_name}\" and \n",
    "                population_size={population_size} and\n",
    "                algorithm=\"{alg_name}\"\n",
    "        ''').fetchall()\n",
    "        \n",
    "        df = pd.DataFrame(\n",
    "            results, \n",
    "            columns=['Fitness', 'Migration Rate', 'Epoch'])\n",
    "        df = df.groupby(['Epoch', 'Migration Rate']).mean().reset_index()\n",
    "\n",
    "        \n",
    "        print(alg_name)\n",
    "        print(df.nsmallest(limit, 'Fitness'))\n",
    "        \n",
    "        print()"
   ]
  },
  {
   "cell_type": "markdown",
   "id": "1e5ca9a4",
   "metadata": {},
   "source": [
    "## Binary Alpine, 1280"
   ]
  },
  {
   "cell_type": "code",
   "execution_count": null,
   "id": "151cc585",
   "metadata": {},
   "outputs": [],
   "source": [
    "# plot_epochs_migration_rate_vs_fitness('Alpine', 640)"
   ]
  },
  {
   "cell_type": "code",
   "execution_count": null,
   "id": "6dffcca6",
   "metadata": {},
   "outputs": [],
   "source": [
    "plot_calculations_fitness('Alpine', 1280)"
   ]
  },
  {
   "cell_type": "markdown",
   "id": "4fad471b",
   "metadata": {},
   "source": [
    "## Rastrigin, 640"
   ]
  },
  {
   "cell_type": "code",
   "execution_count": null,
   "id": "59a9125a",
   "metadata": {},
   "outputs": [],
   "source": [
    "plot_epochs_migration_rate_vs_fitness('Rastrigin', 640)"
   ]
  },
  {
   "cell_type": "code",
   "execution_count": null,
   "id": "25e0ece0",
   "metadata": {},
   "outputs": [],
   "source": [
    "algorithm_best('Rastrigin', 640, 10)"
   ]
  },
  {
   "cell_type": "code",
   "execution_count": null,
   "id": "cb4fb6aa",
   "metadata": {},
   "outputs": [],
   "source": [
    "get_best_results('Rastrigin', 640)"
   ]
  },
  {
   "cell_type": "markdown",
   "id": "4f1c2cb7",
   "metadata": {},
   "source": [
    "## TSP, 320"
   ]
  },
  {
   "cell_type": "code",
   "execution_count": null,
   "id": "779fb642",
   "metadata": {},
   "outputs": [],
   "source": [
    "plot_epochs_migration_rate_vs_fitness('TSP', 320)"
   ]
  },
  {
   "cell_type": "code",
   "execution_count": null,
   "id": "24eeb493",
   "metadata": {},
   "outputs": [],
   "source": [
    "get_best_results('TSP', 320)"
   ]
  },
  {
   "cell_type": "code",
   "execution_count": null,
   "id": "1c79225f",
   "metadata": {},
   "outputs": [],
   "source": [
    "algorithm_best('TSP', 320, 10)"
   ]
  },
  {
   "cell_type": "markdown",
   "id": "4cf5d1a5",
   "metadata": {},
   "source": [
    "## Rosenbrock, 320"
   ]
  },
  {
   "cell_type": "code",
   "execution_count": null,
   "id": "88d69f80",
   "metadata": {},
   "outputs": [],
   "source": [
    "plot_calculations_fitness('Rosenbrock', 320)"
   ]
  },
  {
   "cell_type": "code",
   "execution_count": null,
   "id": "6f22697e",
   "metadata": {},
   "outputs": [],
   "source": [
    "algorithm_best('Rosenbrock', 320, 10)"
   ]
  },
  {
   "cell_type": "code",
   "execution_count": null,
   "id": "d722e8fa",
   "metadata": {},
   "outputs": [],
   "source": []
  }
 ],
 "metadata": {
  "kernelspec": {
   "display_name": "Python 3",
   "language": "python",
   "name": "python3"
  },
  "language_info": {
   "codemirror_mode": {
    "name": "ipython",
    "version": 3
   },
   "file_extension": ".py",
   "mimetype": "text/x-python",
   "name": "python",
   "nbconvert_exporter": "python",
   "pygments_lexer": "ipython3",
   "version": "3.8.8"
  }
 },
 "nbformat": 4,
 "nbformat_minor": 5
}
